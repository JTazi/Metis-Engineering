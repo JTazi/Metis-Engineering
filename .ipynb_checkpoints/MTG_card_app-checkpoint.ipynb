{
 "cells": [
  {
   "cell_type": "markdown",
   "id": "d52997e7",
   "metadata": {},
   "source": [
    "# MTG Database Interface\n",
    "Scryfall API -> google cloud mongoDB -> Streamlit App"
   ]
  },
  {
   "cell_type": "markdown",
   "id": "34140d06",
   "metadata": {},
   "source": [
    "## 1. Data Collection"
   ]
  },
  {
   "cell_type": "code",
   "execution_count": 24,
   "id": "2914b16e",
   "metadata": {},
   "outputs": [],
   "source": [
    "from bs4 import BeautifulSoup as bs\n",
    "import requests\n",
    "\n",
    "#get html code for scryfall bulk download page\n",
    "bulk_url = requests.get('https://scryfall.com/docs/api/bulk-data')\n",
    "\n",
    "#convert html to soup\n",
    "soup = bs(bulk_url.content, 'html.parser')"
   ]
  },
  {
   "cell_type": "code",
   "execution_count": 27,
   "id": "409a300b",
   "metadata": {},
   "outputs": [
    {
     "name": "stdout",
     "output_type": "stream",
     "text": [
      "<td><a href=\"https://c2.scryfall.com/file/scryfall-bulk/default-cards/default-cards-20220928210728.json\">Download</a></td>\n"
     ]
    }
   ],
   "source": [
    "#find URL for bulk download, two items after the table row title, \"Default Cards\"\n",
    "link = soup.find(text = \"Default Cards\").next.next\n",
    "#print(link)"
   ]
  },
  {
   "cell_type": "code",
   "execution_count": 29,
   "id": "bc1a9013",
   "metadata": {},
   "outputs": [
    {
     "name": "stdout",
     "output_type": "stream",
     "text": [
      "['https://c2.scryfall.com/file/scryfall-bulk/default-cards/default-cards-20220928210728.json']\n"
     ]
    }
   ],
   "source": [
    "import re\n",
    "#use regex to extract text between quotations. convert soup to string\n",
    "url = re.findall(r'\"([^\"]*)\"', str(link))\n",
    "#print(url)"
   ]
  },
  {
   "cell_type": "code",
   "execution_count": 31,
   "id": "bd805e51",
   "metadata": {},
   "outputs": [
    {
     "name": "stdout",
     "output_type": "stream",
     "text": [
      "200\n"
     ]
    }
   ],
   "source": [
    "#https://c2.scryfall.com/file/scryfall-bulk/default-cards/default-cards-20220928210728.json\n",
    "#URL for bulk download of all english MTG card objects on scryfall\n",
    "#import requests\n",
    "\n",
    "bulk = requests.get(url[0])\n",
    "#print(bulk.status_code) #200 = ok"
   ]
  },
  {
   "cell_type": "code",
   "execution_count": 6,
   "id": "8178a807",
   "metadata": {},
   "outputs": [
    {
     "data": {
      "text/plain": [
       "bytes"
      ]
     },
     "execution_count": 6,
     "metadata": {},
     "output_type": "execute_result"
    }
   ],
   "source": [
    "type(bulk.content)"
   ]
  },
  {
   "cell_type": "code",
   "execution_count": 7,
   "id": "a032a7eb",
   "metadata": {},
   "outputs": [
    {
     "name": "stderr",
     "output_type": "stream",
     "text": [
      "/home/jtaz/anaconda3/lib/python3.9/json/decoder.py:353: RuntimeWarning: coroutine 'FoundationObject.__init__.<locals>.main' was never awaited\n",
      "  obj, end = self.scan_once(s, idx)\n",
      "RuntimeWarning: Enable tracemalloc to get the object allocation traceback\n"
     ]
    }
   ],
   "source": [
    "mtg_lib = bulk.json()"
   ]
  },
  {
   "cell_type": "code",
   "execution_count": 8,
   "id": "e4279da5",
   "metadata": {},
   "outputs": [
    {
     "name": "stdout",
     "output_type": "stream",
     "text": [
      "<class 'list'>\n"
     ]
    }
   ],
   "source": [
    "print(type(mtg_lib))"
   ]
  },
  {
   "cell_type": "code",
   "execution_count": 17,
   "id": "fc66afcb",
   "metadata": {},
   "outputs": [
    {
     "name": "stdout",
     "output_type": "stream",
     "text": [
      "73262\n",
      "{'object': 'card', 'id': '0000579f-7b35-4ed3-b44c-db2a538066fe', 'oracle_id': '44623693-51d6-49ad-8cd7-140505caf02f', 'multiverse_ids': [109722], 'mtgo_id': 25527, 'mtgo_foil_id': 25528, 'tcgplayer_id': 14240, 'cardmarket_id': 13850, 'name': 'Fury Sliver', 'lang': 'en', 'released_at': '2006-10-06', 'uri': 'https://api.scryfall.com/cards/0000579f-7b35-4ed3-b44c-db2a538066fe', 'scryfall_uri': 'https://scryfall.com/card/tsp/157/fury-sliver?utm_source=api', 'layout': 'normal', 'highres_image': True, 'image_status': 'highres_scan', 'image_uris': {'small': 'https://c1.scryfall.com/file/scryfall-cards/small/front/0/0/0000579f-7b35-4ed3-b44c-db2a538066fe.jpg?1562894979', 'normal': 'https://c1.scryfall.com/file/scryfall-cards/normal/front/0/0/0000579f-7b35-4ed3-b44c-db2a538066fe.jpg?1562894979', 'large': 'https://c1.scryfall.com/file/scryfall-cards/large/front/0/0/0000579f-7b35-4ed3-b44c-db2a538066fe.jpg?1562894979', 'png': 'https://c1.scryfall.com/file/scryfall-cards/png/front/0/0/0000579f-7b35-4ed3-b44c-db2a538066fe.png?1562894979', 'art_crop': 'https://c1.scryfall.com/file/scryfall-cards/art_crop/front/0/0/0000579f-7b35-4ed3-b44c-db2a538066fe.jpg?1562894979', 'border_crop': 'https://c1.scryfall.com/file/scryfall-cards/border_crop/front/0/0/0000579f-7b35-4ed3-b44c-db2a538066fe.jpg?1562894979'}, 'mana_cost': '{5}{R}', 'cmc': 6.0, 'type_line': 'Creature — Sliver', 'oracle_text': 'All Sliver creatures have double strike.', 'power': '3', 'toughness': '3', 'colors': ['R'], 'color_identity': ['R'], 'keywords': [], 'legalities': {'standard': 'not_legal', 'future': 'not_legal', 'historic': 'not_legal', 'gladiator': 'not_legal', 'pioneer': 'not_legal', 'explorer': 'not_legal', 'modern': 'legal', 'legacy': 'legal', 'pauper': 'not_legal', 'vintage': 'legal', 'penny': 'legal', 'commander': 'legal', 'brawl': 'not_legal', 'historicbrawl': 'not_legal', 'alchemy': 'not_legal', 'paupercommander': 'restricted', 'duel': 'legal', 'oldschool': 'not_legal', 'premodern': 'not_legal'}, 'games': ['paper', 'mtgo'], 'reserved': False, 'foil': True, 'nonfoil': True, 'finishes': ['nonfoil', 'foil'], 'oversized': False, 'promo': False, 'reprint': False, 'variation': False, 'set_id': 'c1d109bc-ffd8-428f-8d7d-3f8d7e648046', 'set': 'tsp', 'set_name': 'Time Spiral', 'set_type': 'expansion', 'set_uri': 'https://api.scryfall.com/sets/c1d109bc-ffd8-428f-8d7d-3f8d7e648046', 'set_search_uri': 'https://api.scryfall.com/cards/search?order=set&q=e%3Atsp&unique=prints', 'scryfall_set_uri': 'https://scryfall.com/sets/tsp?utm_source=api', 'rulings_uri': 'https://api.scryfall.com/cards/0000579f-7b35-4ed3-b44c-db2a538066fe/rulings', 'prints_search_uri': 'https://api.scryfall.com/cards/search?order=released&q=oracleid%3A44623693-51d6-49ad-8cd7-140505caf02f&unique=prints', 'collector_number': '157', 'digital': False, 'rarity': 'uncommon', 'flavor_text': '\"A rift opened, and our arrows were abruptly stilled. To move was to push the world. But the sliver\\'s claw still twitched, red wounds appeared in Thed\\'s chest, and ribbons of blood hung in the air.\"\\n—Adom Capashen, Benalish hero', 'card_back_id': '0aeebaf5-8c7d-4636-9e82-8c27447861f7', 'artist': 'Paolo Parente', 'artist_ids': ['d48dd097-720d-476a-8722-6a02854ae28b'], 'illustration_id': '2fcca987-364c-4738-a75b-099d8a26d614', 'border_color': 'black', 'frame': '2003', 'full_art': False, 'textless': False, 'booster': True, 'story_spotlight': False, 'edhrec_rank': 5626, 'penny_rank': 10436, 'prices': {'usd': '0.30', 'usd_foil': '4.50', 'usd_etched': None, 'eur': '0.47', 'eur_foil': '1.84', 'tix': '0.02'}, 'related_uris': {'gatherer': 'https://gatherer.wizards.com/Pages/Card/Details.aspx?multiverseid=109722', 'tcgplayer_infinite_articles': 'https://infinite.tcgplayer.com/search?contentMode=article&game=magic&partner=scryfall&q=Fury+Sliver&utm_campaign=affiliate&utm_medium=api&utm_source=scryfall', 'tcgplayer_infinite_decks': 'https://infinite.tcgplayer.com/search?contentMode=deck&game=magic&partner=scryfall&q=Fury+Sliver&utm_campaign=affiliate&utm_medium=api&utm_source=scryfall', 'edhrec': 'https://edhrec.com/route/?cc=Fury+Sliver'}, '_id': ObjectId('6334e24dcdf7a68bf95a8355')}\n"
     ]
    }
   ],
   "source": [
    "print(len(mtg_lib))\n",
    "print(mtg_lib[0])"
   ]
  },
  {
   "cell_type": "markdown",
   "id": "7712a5a1",
   "metadata": {},
   "source": [
    "## 2. Import JSON file to MongoDB"
   ]
  },
  {
   "cell_type": "code",
   "execution_count": 15,
   "id": "40cce246",
   "metadata": {},
   "outputs": [],
   "source": [
    "from pymongo import MongoClient\n",
    "\n",
    "#create client instance\n",
    "client = MongoClient()\n",
    "\n",
    "# create cards database and assign to db\n",
    "db = client.mtg\n",
    "print('Databases: \\t', client.list_database_names())\n",
    "\n",
    "#create card collection in mtg database\n",
    "cards = db.cards"
   ]
  },
  {
   "cell_type": "code",
   "execution_count": 16,
   "id": "4469325e",
   "metadata": {},
   "outputs": [
    {
     "data": {
      "text/plain": [
       "73262"
      ]
     },
     "execution_count": 16,
     "metadata": {},
     "output_type": "execute_result"
    }
   ],
   "source": [
    "#add cards json from request to cards collection\n",
    "cards.insert_many(mtg_lib)\n",
    "\n",
    "#check for number of cards added, should be 73,262\n",
    "cards.estimated_document_count()"
   ]
  },
  {
   "cell_type": "code",
   "execution_count": 19,
   "id": "6eff6f0a",
   "metadata": {},
   "outputs": [
    {
     "data": {
      "text/plain": [
       "[{'_id': ObjectId('6334e24dcdf7a68bf95a8355'),\n",
       "  'object': 'card',\n",
       "  'id': '0000579f-7b35-4ed3-b44c-db2a538066fe',\n",
       "  'oracle_id': '44623693-51d6-49ad-8cd7-140505caf02f',\n",
       "  'multiverse_ids': [109722],\n",
       "  'mtgo_id': 25527,\n",
       "  'mtgo_foil_id': 25528,\n",
       "  'tcgplayer_id': 14240,\n",
       "  'cardmarket_id': 13850,\n",
       "  'name': 'Fury Sliver',\n",
       "  'lang': 'en',\n",
       "  'released_at': '2006-10-06',\n",
       "  'uri': 'https://api.scryfall.com/cards/0000579f-7b35-4ed3-b44c-db2a538066fe',\n",
       "  'scryfall_uri': 'https://scryfall.com/card/tsp/157/fury-sliver?utm_source=api',\n",
       "  'layout': 'normal',\n",
       "  'highres_image': True,\n",
       "  'image_status': 'highres_scan',\n",
       "  'image_uris': {'small': 'https://c1.scryfall.com/file/scryfall-cards/small/front/0/0/0000579f-7b35-4ed3-b44c-db2a538066fe.jpg?1562894979',\n",
       "   'normal': 'https://c1.scryfall.com/file/scryfall-cards/normal/front/0/0/0000579f-7b35-4ed3-b44c-db2a538066fe.jpg?1562894979',\n",
       "   'large': 'https://c1.scryfall.com/file/scryfall-cards/large/front/0/0/0000579f-7b35-4ed3-b44c-db2a538066fe.jpg?1562894979',\n",
       "   'png': 'https://c1.scryfall.com/file/scryfall-cards/png/front/0/0/0000579f-7b35-4ed3-b44c-db2a538066fe.png?1562894979',\n",
       "   'art_crop': 'https://c1.scryfall.com/file/scryfall-cards/art_crop/front/0/0/0000579f-7b35-4ed3-b44c-db2a538066fe.jpg?1562894979',\n",
       "   'border_crop': 'https://c1.scryfall.com/file/scryfall-cards/border_crop/front/0/0/0000579f-7b35-4ed3-b44c-db2a538066fe.jpg?1562894979'},\n",
       "  'mana_cost': '{5}{R}',\n",
       "  'cmc': 6.0,\n",
       "  'type_line': 'Creature — Sliver',\n",
       "  'oracle_text': 'All Sliver creatures have double strike.',\n",
       "  'power': '3',\n",
       "  'toughness': '3',\n",
       "  'colors': ['R'],\n",
       "  'color_identity': ['R'],\n",
       "  'keywords': [],\n",
       "  'legalities': {'standard': 'not_legal',\n",
       "   'future': 'not_legal',\n",
       "   'historic': 'not_legal',\n",
       "   'gladiator': 'not_legal',\n",
       "   'pioneer': 'not_legal',\n",
       "   'explorer': 'not_legal',\n",
       "   'modern': 'legal',\n",
       "   'legacy': 'legal',\n",
       "   'pauper': 'not_legal',\n",
       "   'vintage': 'legal',\n",
       "   'penny': 'legal',\n",
       "   'commander': 'legal',\n",
       "   'brawl': 'not_legal',\n",
       "   'historicbrawl': 'not_legal',\n",
       "   'alchemy': 'not_legal',\n",
       "   'paupercommander': 'restricted',\n",
       "   'duel': 'legal',\n",
       "   'oldschool': 'not_legal',\n",
       "   'premodern': 'not_legal'},\n",
       "  'games': ['paper', 'mtgo'],\n",
       "  'reserved': False,\n",
       "  'foil': True,\n",
       "  'nonfoil': True,\n",
       "  'finishes': ['nonfoil', 'foil'],\n",
       "  'oversized': False,\n",
       "  'promo': False,\n",
       "  'reprint': False,\n",
       "  'variation': False,\n",
       "  'set_id': 'c1d109bc-ffd8-428f-8d7d-3f8d7e648046',\n",
       "  'set': 'tsp',\n",
       "  'set_name': 'Time Spiral',\n",
       "  'set_type': 'expansion',\n",
       "  'set_uri': 'https://api.scryfall.com/sets/c1d109bc-ffd8-428f-8d7d-3f8d7e648046',\n",
       "  'set_search_uri': 'https://api.scryfall.com/cards/search?order=set&q=e%3Atsp&unique=prints',\n",
       "  'scryfall_set_uri': 'https://scryfall.com/sets/tsp?utm_source=api',\n",
       "  'rulings_uri': 'https://api.scryfall.com/cards/0000579f-7b35-4ed3-b44c-db2a538066fe/rulings',\n",
       "  'prints_search_uri': 'https://api.scryfall.com/cards/search?order=released&q=oracleid%3A44623693-51d6-49ad-8cd7-140505caf02f&unique=prints',\n",
       "  'collector_number': '157',\n",
       "  'digital': False,\n",
       "  'rarity': 'uncommon',\n",
       "  'flavor_text': '\"A rift opened, and our arrows were abruptly stilled. To move was to push the world. But the sliver\\'s claw still twitched, red wounds appeared in Thed\\'s chest, and ribbons of blood hung in the air.\"\\n—Adom Capashen, Benalish hero',\n",
       "  'card_back_id': '0aeebaf5-8c7d-4636-9e82-8c27447861f7',\n",
       "  'artist': 'Paolo Parente',\n",
       "  'artist_ids': ['d48dd097-720d-476a-8722-6a02854ae28b'],\n",
       "  'illustration_id': '2fcca987-364c-4738-a75b-099d8a26d614',\n",
       "  'border_color': 'black',\n",
       "  'frame': '2003',\n",
       "  'full_art': False,\n",
       "  'textless': False,\n",
       "  'booster': True,\n",
       "  'story_spotlight': False,\n",
       "  'edhrec_rank': 5626,\n",
       "  'penny_rank': 10436,\n",
       "  'prices': {'usd': '0.30',\n",
       "   'usd_foil': '4.50',\n",
       "   'usd_etched': None,\n",
       "   'eur': '0.47',\n",
       "   'eur_foil': '1.84',\n",
       "   'tix': '0.02'},\n",
       "  'related_uris': {'gatherer': 'https://gatherer.wizards.com/Pages/Card/Details.aspx?multiverseid=109722',\n",
       "   'tcgplayer_infinite_articles': 'https://infinite.tcgplayer.com/search?contentMode=article&game=magic&partner=scryfall&q=Fury+Sliver&utm_campaign=affiliate&utm_medium=api&utm_source=scryfall',\n",
       "   'tcgplayer_infinite_decks': 'https://infinite.tcgplayer.com/search?contentMode=deck&game=magic&partner=scryfall&q=Fury+Sliver&utm_campaign=affiliate&utm_medium=api&utm_source=scryfall',\n",
       "   'edhrec': 'https://edhrec.com/route/?cc=Fury+Sliver'}},\n",
       " {'_id': ObjectId('6334e24dcdf7a68bf95b4000'),\n",
       "  'object': 'card',\n",
       "  'id': 'a8a64329-09fc-4e0d-b7d1-378635f2801a',\n",
       "  'oracle_id': '44623693-51d6-49ad-8cd7-140505caf02f',\n",
       "  'multiverse_ids': [509529],\n",
       "  'mtgo_id': 86699,\n",
       "  'tcgplayer_id': 233928,\n",
       "  'cardmarket_id': 545126,\n",
       "  'name': 'Fury Sliver',\n",
       "  'lang': 'en',\n",
       "  'released_at': '2021-03-19',\n",
       "  'uri': 'https://api.scryfall.com/cards/a8a64329-09fc-4e0d-b7d1-378635f2801a',\n",
       "  'scryfall_uri': 'https://scryfall.com/card/tsr/164/fury-sliver?utm_source=api',\n",
       "  'layout': 'normal',\n",
       "  'highres_image': True,\n",
       "  'image_status': 'highres_scan',\n",
       "  'image_uris': {'small': 'https://c1.scryfall.com/file/scryfall-cards/small/front/a/8/a8a64329-09fc-4e0d-b7d1-378635f2801a.jpg?1619396979',\n",
       "   'normal': 'https://c1.scryfall.com/file/scryfall-cards/normal/front/a/8/a8a64329-09fc-4e0d-b7d1-378635f2801a.jpg?1619396979',\n",
       "   'large': 'https://c1.scryfall.com/file/scryfall-cards/large/front/a/8/a8a64329-09fc-4e0d-b7d1-378635f2801a.jpg?1619396979',\n",
       "   'png': 'https://c1.scryfall.com/file/scryfall-cards/png/front/a/8/a8a64329-09fc-4e0d-b7d1-378635f2801a.png?1619396979',\n",
       "   'art_crop': 'https://c1.scryfall.com/file/scryfall-cards/art_crop/front/a/8/a8a64329-09fc-4e0d-b7d1-378635f2801a.jpg?1619396979',\n",
       "   'border_crop': 'https://c1.scryfall.com/file/scryfall-cards/border_crop/front/a/8/a8a64329-09fc-4e0d-b7d1-378635f2801a.jpg?1619396979'},\n",
       "  'mana_cost': '{5}{R}',\n",
       "  'cmc': 6.0,\n",
       "  'type_line': 'Creature — Sliver',\n",
       "  'oracle_text': 'All Sliver creatures have double strike.',\n",
       "  'power': '3',\n",
       "  'toughness': '3',\n",
       "  'colors': ['R'],\n",
       "  'color_identity': ['R'],\n",
       "  'keywords': [],\n",
       "  'legalities': {'standard': 'not_legal',\n",
       "   'future': 'not_legal',\n",
       "   'historic': 'not_legal',\n",
       "   'gladiator': 'not_legal',\n",
       "   'pioneer': 'not_legal',\n",
       "   'explorer': 'not_legal',\n",
       "   'modern': 'legal',\n",
       "   'legacy': 'legal',\n",
       "   'pauper': 'not_legal',\n",
       "   'vintage': 'legal',\n",
       "   'penny': 'legal',\n",
       "   'commander': 'legal',\n",
       "   'brawl': 'not_legal',\n",
       "   'historicbrawl': 'not_legal',\n",
       "   'alchemy': 'not_legal',\n",
       "   'paupercommander': 'restricted',\n",
       "   'duel': 'legal',\n",
       "   'oldschool': 'not_legal',\n",
       "   'premodern': 'not_legal'},\n",
       "  'games': ['paper', 'mtgo'],\n",
       "  'reserved': False,\n",
       "  'foil': True,\n",
       "  'nonfoil': True,\n",
       "  'finishes': ['nonfoil', 'foil'],\n",
       "  'oversized': False,\n",
       "  'promo': False,\n",
       "  'reprint': True,\n",
       "  'variation': False,\n",
       "  'set_id': '11e90d1b-0502-43e6-b056-e24836523c13',\n",
       "  'set': 'tsr',\n",
       "  'set_name': 'Time Spiral Remastered',\n",
       "  'set_type': 'masters',\n",
       "  'set_uri': 'https://api.scryfall.com/sets/11e90d1b-0502-43e6-b056-e24836523c13',\n",
       "  'set_search_uri': 'https://api.scryfall.com/cards/search?order=set&q=e%3Atsr&unique=prints',\n",
       "  'scryfall_set_uri': 'https://scryfall.com/sets/tsr?utm_source=api',\n",
       "  'rulings_uri': 'https://api.scryfall.com/cards/a8a64329-09fc-4e0d-b7d1-378635f2801a/rulings',\n",
       "  'prints_search_uri': 'https://api.scryfall.com/cards/search?order=released&q=oracleid%3A44623693-51d6-49ad-8cd7-140505caf02f&unique=prints',\n",
       "  'collector_number': '164',\n",
       "  'digital': False,\n",
       "  'rarity': 'uncommon',\n",
       "  'flavor_text': '\"A rift opened, and our arrows were abruptly stilled. To move was to push the world. But the sliver\\'s claw still twitched, red wounds appeared in Thed\\'s chest, and ribbons of blood hung in the air.\"\\n—Adom Capashen, Benalish hero',\n",
       "  'card_back_id': '0aeebaf5-8c7d-4636-9e82-8c27447861f7',\n",
       "  'artist': 'Paolo Parente',\n",
       "  'artist_ids': ['d48dd097-720d-476a-8722-6a02854ae28b'],\n",
       "  'illustration_id': '2fcca987-364c-4738-a75b-099d8a26d614',\n",
       "  'border_color': 'black',\n",
       "  'frame': '2015',\n",
       "  'full_art': False,\n",
       "  'textless': False,\n",
       "  'booster': True,\n",
       "  'story_spotlight': False,\n",
       "  'edhrec_rank': 5626,\n",
       "  'penny_rank': 10436,\n",
       "  'preview': {'source': 'Luca Van Deun',\n",
       "   'source_uri': 'https://twitter.com/LegenVD/status/1366803619190874114',\n",
       "   'previewed_at': '2021-03-02'},\n",
       "  'prices': {'usd': '0.30',\n",
       "   'usd_foil': '0.59',\n",
       "   'usd_etched': None,\n",
       "   'eur': '0.15',\n",
       "   'eur_foil': '0.49',\n",
       "   'tix': '0.03'},\n",
       "  'related_uris': {'gatherer': 'https://gatherer.wizards.com/Pages/Card/Details.aspx?multiverseid=509529',\n",
       "   'tcgplayer_infinite_articles': 'https://infinite.tcgplayer.com/search?contentMode=article&game=magic&partner=scryfall&q=Fury+Sliver&utm_campaign=affiliate&utm_medium=api&utm_source=scryfall',\n",
       "   'tcgplayer_infinite_decks': 'https://infinite.tcgplayer.com/search?contentMode=deck&game=magic&partner=scryfall&q=Fury+Sliver&utm_campaign=affiliate&utm_medium=api&utm_source=scryfall',\n",
       "   'edhrec': 'https://edhrec.com/route/?cc=Fury+Sliver'}},\n",
       " {'_id': ObjectId('6334e24ecdf7a68bf95b8ea5'),\n",
       "  'object': 'card',\n",
       "  'id': 'eed1b11e-ca86-4b1b-b989-3a59e5772099',\n",
       "  'oracle_id': '44623693-51d6-49ad-8cd7-140505caf02f',\n",
       "  'multiverse_ids': [207904],\n",
       "  'mtgo_id': 35350,\n",
       "  'mtgo_foil_id': 35351,\n",
       "  'tcgplayer_id': 37059,\n",
       "  'cardmarket_id': 22062,\n",
       "  'name': 'Fury Sliver',\n",
       "  'lang': 'en',\n",
       "  'released_at': '2009-11-20',\n",
       "  'uri': 'https://api.scryfall.com/cards/eed1b11e-ca86-4b1b-b989-3a59e5772099',\n",
       "  'scryfall_uri': 'https://scryfall.com/card/h09/25/fury-sliver?utm_source=api',\n",
       "  'layout': 'normal',\n",
       "  'highres_image': True,\n",
       "  'image_status': 'highres_scan',\n",
       "  'image_uris': {'small': 'https://c1.scryfall.com/file/scryfall-cards/small/front/e/e/eed1b11e-ca86-4b1b-b989-3a59e5772099.jpg?1562384496',\n",
       "   'normal': 'https://c1.scryfall.com/file/scryfall-cards/normal/front/e/e/eed1b11e-ca86-4b1b-b989-3a59e5772099.jpg?1562384496',\n",
       "   'large': 'https://c1.scryfall.com/file/scryfall-cards/large/front/e/e/eed1b11e-ca86-4b1b-b989-3a59e5772099.jpg?1562384496',\n",
       "   'png': 'https://c1.scryfall.com/file/scryfall-cards/png/front/e/e/eed1b11e-ca86-4b1b-b989-3a59e5772099.png?1562384496',\n",
       "   'art_crop': 'https://c1.scryfall.com/file/scryfall-cards/art_crop/front/e/e/eed1b11e-ca86-4b1b-b989-3a59e5772099.jpg?1562384496',\n",
       "   'border_crop': 'https://c1.scryfall.com/file/scryfall-cards/border_crop/front/e/e/eed1b11e-ca86-4b1b-b989-3a59e5772099.jpg?1562384496'},\n",
       "  'mana_cost': '{5}{R}',\n",
       "  'cmc': 6.0,\n",
       "  'type_line': 'Creature — Sliver',\n",
       "  'oracle_text': 'All Sliver creatures have double strike.',\n",
       "  'power': '3',\n",
       "  'toughness': '3',\n",
       "  'colors': ['R'],\n",
       "  'color_identity': ['R'],\n",
       "  'keywords': [],\n",
       "  'legalities': {'standard': 'not_legal',\n",
       "   'future': 'not_legal',\n",
       "   'historic': 'not_legal',\n",
       "   'gladiator': 'not_legal',\n",
       "   'pioneer': 'not_legal',\n",
       "   'explorer': 'not_legal',\n",
       "   'modern': 'legal',\n",
       "   'legacy': 'legal',\n",
       "   'pauper': 'not_legal',\n",
       "   'vintage': 'legal',\n",
       "   'penny': 'legal',\n",
       "   'commander': 'legal',\n",
       "   'brawl': 'not_legal',\n",
       "   'historicbrawl': 'not_legal',\n",
       "   'alchemy': 'not_legal',\n",
       "   'paupercommander': 'restricted',\n",
       "   'duel': 'legal',\n",
       "   'oldschool': 'not_legal',\n",
       "   'premodern': 'not_legal'},\n",
       "  'games': ['paper', 'mtgo'],\n",
       "  'reserved': False,\n",
       "  'foil': True,\n",
       "  'nonfoil': False,\n",
       "  'finishes': ['foil'],\n",
       "  'oversized': False,\n",
       "  'promo': False,\n",
       "  'reprint': True,\n",
       "  'variation': False,\n",
       "  'set_id': '3a045e59-64b5-465d-9dbd-f4ddadf8f4dc',\n",
       "  'set': 'h09',\n",
       "  'set_name': 'Premium Deck Series: Slivers',\n",
       "  'set_type': 'premium_deck',\n",
       "  'set_uri': 'https://api.scryfall.com/sets/3a045e59-64b5-465d-9dbd-f4ddadf8f4dc',\n",
       "  'set_search_uri': 'https://api.scryfall.com/cards/search?order=set&q=e%3Ah09&unique=prints',\n",
       "  'scryfall_set_uri': 'https://scryfall.com/sets/h09?utm_source=api',\n",
       "  'rulings_uri': 'https://api.scryfall.com/cards/eed1b11e-ca86-4b1b-b989-3a59e5772099/rulings',\n",
       "  'prints_search_uri': 'https://api.scryfall.com/cards/search?order=released&q=oracleid%3A44623693-51d6-49ad-8cd7-140505caf02f&unique=prints',\n",
       "  'collector_number': '25',\n",
       "  'digital': False,\n",
       "  'rarity': 'uncommon',\n",
       "  'flavor_text': '\"A rift opened, and our arrows were abruptly stilled. To move was to push the world. But the sliver\\'s claw still twitched, red wounds appeared in Thed\\'s chest, and ribbons of blood hung in the air.\"\\n—Adom Capashen, Benalish hero',\n",
       "  'card_back_id': '0aeebaf5-8c7d-4636-9e82-8c27447861f7',\n",
       "  'artist': 'Paolo Parente',\n",
       "  'artist_ids': ['d48dd097-720d-476a-8722-6a02854ae28b'],\n",
       "  'illustration_id': '2fcca987-364c-4738-a75b-099d8a26d614',\n",
       "  'border_color': 'black',\n",
       "  'frame': '2003',\n",
       "  'full_art': False,\n",
       "  'textless': False,\n",
       "  'booster': False,\n",
       "  'story_spotlight': False,\n",
       "  'edhrec_rank': 5626,\n",
       "  'penny_rank': 10436,\n",
       "  'prices': {'usd': None,\n",
       "   'usd_foil': '0.78',\n",
       "   'usd_etched': None,\n",
       "   'eur': None,\n",
       "   'eur_foil': '0.30',\n",
       "   'tix': None},\n",
       "  'related_uris': {'gatherer': 'https://gatherer.wizards.com/Pages/Card/Details.aspx?multiverseid=207904',\n",
       "   'tcgplayer_infinite_articles': 'https://infinite.tcgplayer.com/search?contentMode=article&game=magic&partner=scryfall&q=Fury+Sliver&utm_campaign=affiliate&utm_medium=api&utm_source=scryfall',\n",
       "   'tcgplayer_infinite_decks': 'https://infinite.tcgplayer.com/search?contentMode=deck&game=magic&partner=scryfall&q=Fury+Sliver&utm_campaign=affiliate&utm_medium=api&utm_source=scryfall',\n",
       "   'edhrec': 'https://edhrec.com/route/?cc=Fury+Sliver'}}]"
      ]
     },
     "execution_count": 19,
     "metadata": {},
     "output_type": "execute_result"
    }
   ],
   "source": [
    "# test db inputs with query for card \"Fury Sliver\", 2 entries returned for 2 versions of the card\n",
    "list(db.cards.find({'name':'Fury Sliver'}))"
   ]
  },
  {
   "cell_type": "code",
   "execution_count": null,
   "id": "db7772f0",
   "metadata": {},
   "outputs": [],
   "source": []
  }
 ],
 "metadata": {
  "kernelspec": {
   "display_name": "Python 3(metis)",
   "language": "python",
   "name": "metis"
  },
  "language_info": {
   "codemirror_mode": {
    "name": "ipython",
    "version": 3
   },
   "file_extension": ".py",
   "mimetype": "text/x-python",
   "name": "python",
   "nbconvert_exporter": "python",
   "pygments_lexer": "ipython3",
   "version": "3.9.7"
  }
 },
 "nbformat": 4,
 "nbformat_minor": 5
}
